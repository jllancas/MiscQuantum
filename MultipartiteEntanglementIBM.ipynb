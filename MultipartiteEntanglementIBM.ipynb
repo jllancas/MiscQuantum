{
 "cells": [
  {
   "cell_type": "code",
   "execution_count": 1,
   "id": "45826417",
   "metadata": {},
   "outputs": [],
   "source": [
    "from qiskit import *\n",
    "import numpy as np\n",
    "from matplotlib import pyplot as plt"
   ]
  },
  {
   "cell_type": "markdown",
   "id": "734d0014-e57e-4fcd-82c3-f874744539ac",
   "metadata": {},
   "source": [
    "References:\n",
    "\n",
    "Mao <i>et al.</i>: [https://arxiv.org/abs/2201.12753](https://arxiv.org/abs/2201.12753)<p>\n",
    "Cao, Renou <i>et al.</i>: [https://arxiv.org/abs/2201.12754](https://arxiv.org/abs/2201.12754)"
   ]
  },
  {
   "cell_type": "markdown",
   "id": "e6e25e1c-fa6f-4b48-94a6-1760cd2b2f9f",
   "metadata": {},
   "source": [
    "Mao <i>et al.</i> give a general inequality of the form\n",
    "\n",
    "$$\\langle\\hat{S}_{N}\\rangle \\equiv \\langle \\hat{A}_{0}(\\hat{B}_{0}+\\hat{B}_{1}) + 2(\\hat{A}_{0}\\hat{C}_{0} + \\hat{C}_{0}\\hat{D}_{0}+ \\cdots + \\hat{V}_{0}\\hat{W}_{0}) + \\hat{A}_{1}(\\hat{B}_{0}-\\hat{B}_{1})\\hat{C}_{1}\\hat{D}_{1}\\cdots\\hat{W}_{1}\\rangle \\leq 2(N-1)$$\n",
    "\n",
    "QM predicts $\\langle \\hat{S}_{N}\\rangle = 2(N-2)+2\\sqrt{2}$\n",
    "\n",
    "The slightly different convention is that $\\hat{B}_{1}$ has an overall minus sign in its defintion compared to the previous cases.\n",
    "\n",
    "$$\\hat{B}_{0} = \\frac{1}{\\sqrt{2}}\\left(\\hat{\\sigma}^{z}+\\hat{\\sigma}^{x}\\right)$$\n",
    "$$\\hat{B}_{1} = \\frac{1}{\\sqrt{2}}\\left(\\hat{\\sigma}^{z}-\\hat{\\sigma}^{x}\\right)$$\n",
    "\n",
    "All other observers have operators\n",
    "$$\\hat{A}_{0}=\\hat{C}_{0}=\\cdots=\\hat{W}_{0} = \\hat{\\sigma}^{z}$$\n",
    "$$\\hat{A}_{1}=\\hat{C}_{1}=\\cdots=\\hat{W}_{1} = \\hat{\\sigma}^{x}$$\n",
    "Note that the combinations needed are\n",
    "\n",
    "$$\\hat{B}_{+}=\\hat{B}_{0}+\\hat{B}_{1}=\\sqrt{2}\\hat{\\sigma}^{z}$$\n",
    "$$\\hat{B}_{-}=\\hat{B}_{0}-\\hat{B}_{1}=\\sqrt{2}\\hat{\\sigma}^{z}$$\n",
    "\n",
    "QM predicts $\\langle\\hat{S}_{N}\\rangle = 2(N-2)+2\\sqrt{2}$. Explicit forms for $N=3,4,5,6$ are\n",
    "\n",
    "$$\\hat{S}_{3} = \\hat{A}_{0}(\\hat{B}_{0}+\\hat{B}_{1}) + 2(\\hat{A}_{0}\\hat{C}_{0}) + \\hat{A}_{1}(\\hat{B}_{0}-\\hat{B}_{1})\\hat{C}_{1}$$\n",
    "$$\\hat{S}_{4} = \\hat{A}_{0}(\\hat{B}_{0}+\\hat{B}_{1}) + 2(\\hat{A}_{0}\\hat{C}_{0} +\\hat{C}_{0}\\hat{D}_{0}) + \\hat{A}_{1}(\\hat{B}_{0}-\\hat{B}_{1})\\hat{C}_{1}\\hat{D}_{0}$$\n",
    "$$\\hat{S}_{5} = \\hat{A}_{0}(\\hat{B}_{0}+\\hat{B}_{1}) + 2(\\hat{A}_{0}\\hat{C}_{0} +\\hat{C}_{0}\\hat{D}_{0}+\\hat{D}_{0}\\hat{E}_{0}) + \\hat{A}_{1}(\\hat{B}_{0}-\\hat{B}_{1})\\hat{C}_{1}\\hat{D}_{0}\\hat{E}_{0}$$\n",
    "$$\\hat{S}_{6} = \\hat{A}_{0}(\\hat{B}_{0}+\\hat{B}_{1}) + 2(\\hat{A}_{0}\\hat{C}_{0} +\\hat{C}_{0}\\hat{D}_{0}+\\hat{D}_{0}\\hat{E}_{0}+\\hat{E}_{0}\\hat{F}_{0}) + \\hat{A}_{1}(\\hat{B}_{0}-\\hat{B}_{1})\\hat{C}_{1}\\hat{D}_{0}\\hat{E}_{0}\\hat{F}_{0}$$"
   ]
  },
  {
   "cell_type": "markdown",
   "id": "f41887d7-4ff0-4867-a19a-7d50bc0945d9",
   "metadata": {},
   "source": [
    "$N=3$\n",
    "$$\\hat{S}_{3} = \\hat{A}_{0}(\\hat{B}_{0}+\\hat{B}_{1}) + 2(\\hat{A}_{0}\\hat{C}_{0}) + \\hat{A}_{1}(\\hat{B}_{0}-\\hat{B}_{1})\\hat{C}_{1}$$\n",
    "$$\\hat{S}_{3} = \\sqrt{2}\\hat{Z}\\hat{Z}\\hat{I} + 2\\hat{Z}\\hat{I}\\hat{Z} + \\sqrt{2}\\hat{X}\\hat{X}\\hat{X}$$"
   ]
  },
  {
   "cell_type": "code",
   "execution_count": 6,
   "id": "7e3b5f69-8cb0-442b-a3e5-e56f5e159e63",
   "metadata": {},
   "outputs": [],
   "source": [
    "from qiskit_ibm_runtime import QiskitRuntimeService\n",
    " \n",
    "#First time, use this:\n",
    "#service = QiskitRuntimeService(channel=\"ibm_quantum\", token=\"<MY_IBM_QUANTUM_TOKEN>\")\n",
    "#overwrite = True\n",
    "\n",
    "#After executing the above line, the token becomes linked to your device.\n",
    "#Subsequent times (or in future notebooks) you can use this simpler command:\n",
    "service = QiskitRuntimeService()"
   ]
  },
  {
   "cell_type": "code",
   "execution_count": 7,
   "id": "cd8b01e0-e49e-40f6-b01f-350099338e36",
   "metadata": {},
   "outputs": [
    {
     "data": {
      "text/plain": [
       "'ibm_kyoto'"
      ]
     },
     "execution_count": 7,
     "metadata": {},
     "output_type": "execute_result"
    }
   ],
   "source": [
    "#backend = service.least_busy(simulator=False, operational=True)\n",
    "backend = service.backend(\"ibm_kyoto\")\n",
    "backend.name"
   ]
  },
  {
   "cell_type": "code",
   "execution_count": 8,
   "id": "34c71e87-c6c2-425b-b011-8770cd972d71",
   "metadata": {},
   "outputs": [
    {
     "data": {
      "image/png": "[encoded data removed]",
      "text/plain": [
       "<Figure size 371.107x284.278 with 1 Axes>"
      ]
     },
     "execution_count": 8,
     "metadata": {},
     "output_type": "execute_result"
    }
   ],
   "source": [
    "from qiskit.quantum_info import SparsePauliOp\n",
    "\n",
    "S3 = SparsePauliOp.from_list([(\"ZZI\", np.sqrt(2)), (\"ZIZ\", 2.), (\"XXX\", np.sqrt(2))])\n",
    "\n",
    "qr = QuantumRegister(3,'q')\n",
    "ghz3circ = QuantumCircuit(qr)\n",
    "\n",
    "#GHZ3\n",
    "ghz3circ.h(0)\n",
    "ghz3circ.cx(0,1)\n",
    "ghz3circ.cx(0,2)\n",
    "\n",
    "ghz3circ.draw('mpl')"
   ]
  },
  {
   "cell_type": "code",
   "execution_count": 9,
   "id": "8d6c81cc-dc4e-4938-9966-27aab998bb76",
   "metadata": {},
   "outputs": [],
   "source": [
    "from qiskit.transpiler.preset_passmanagers import generate_preset_pass_manager\n",
    "\n",
    "pm = generate_preset_pass_manager(backend=backend, optimization_level=3)\n",
    "isa_circuit = pm.run(ghz3circ)\n",
    "\n",
    "isa_S3 = S3.apply_layout(layout=isa_circuit.layout)\n",
    "\n",
    "\n",
    "\n",
    "pub = (\n",
    "    isa_circuit,  # circuit\n",
    "    [[isa_S3]],         # Observables\n",
    ")\n",
    "\n",
    "from qiskit_ibm_runtime import QiskitRuntimeService, EstimatorV2 as Estimator\n",
    "\n",
    "estimator = Estimator(backend, options={\"resilience_level\": 2})\n",
    "job = estimator.run(pubs=[pub])\n",
    "\n",
    "job_result = job.result()"
   ]
  },
  {
   "cell_type": "code",
   "execution_count": 10,
   "id": "9253271f-20f9-4a64-a348-4024a15abcdd",
   "metadata": {},
   "outputs": [
    {
     "name": "stdout",
     "output_type": "stream",
     "text": [
      "[4.97283228]\n",
      "[0.16104898]\n",
      "4.82842712474619\n"
     ]
    }
   ],
   "source": [
    "#job = service.job('<JOB-ID-HERE>')\n",
    "#job_result = job.result()\n",
    "s3_est = job_result[0].data.evs[0]\n",
    "ds3 = job_result[0].data.stds[0]\n",
    "\n",
    "print(s3_est)\n",
    "print(ds3)\n",
    "print(2.*(3.-2)+2.*np.sqrt(2.))"
   ]
  },
  {
   "cell_type": "markdown",
   "id": "7062d630-f68d-42c1-953d-77839f789ab9",
   "metadata": {},
   "source": [
    "$N=4$ \n",
    "\n",
    "$$\\hat{S}_{4} = \\hat{A}_{0}(\\hat{B}_{0}+\\hat{B}_{1}) + 2(\\hat{A}_{0}\\hat{C}_{0} +\\hat{C}_{0}\\hat{D}_{0}) + \\hat{A}_{1}(\\hat{B}_{0}-\\hat{B}_{1})\\hat{C}_{1}\\hat{D}_{1}$$\n",
    "\n",
    "$$\\hat{S}_{4} = \\sqrt{2}\\hat{Z}\\hat{Z}\\hat{I}\\hat{I} +2\\hat{Z}\\hat{I}\\hat{Z}\\hat{I} + +2\\hat{I}\\hat{I}\\hat{Z}\\hat{Z}+\\sqrt{2}\\hat{X}\\hat{X}\\hat{X}\\hat{X}$$"
   ]
  },
  {
   "cell_type": "code",
   "execution_count": 11,
   "id": "3a973248-3630-439b-b4a3-df446fdfa00c",
   "metadata": {},
   "outputs": [
    {
     "data": {
      "image/png": "[encoded data removed]",
      "text/plain": [
       "<Figure size 454.719x367.889 with 1 Axes>"
      ]
     },
     "execution_count": 11,
     "metadata": {},
     "output_type": "execute_result"
    }
   ],
   "source": [
    "S4 = SparsePauliOp.from_list([(\"ZZII\", np.sqrt(2)), (\"ZIZI\", 2.), (\"IIZZ\", 2.), (\"XXXX\", np.sqrt(2))])\n",
    "\n",
    "qr = QuantumRegister(4,'q')\n",
    "ghz4circ = QuantumCircuit(qr)\n",
    "\n",
    "#GHZ4\n",
    "ghz4circ.h(0)\n",
    "ghz4circ.cx(0,1)\n",
    "ghz4circ.cx(0,2)\n",
    "ghz4circ.cx(0,3)\n",
    "\n",
    "ghz4circ.draw('mpl')"
   ]
  },
  {
   "cell_type": "code",
   "execution_count": 13,
   "id": "6b8d3a4d-8072-4d9f-a99b-0f364f5bfc1c",
   "metadata": {},
   "outputs": [],
   "source": [
    "pm = generate_preset_pass_manager(backend=backend, optimization_level=3)\n",
    "isa_circuit = pm.run(ghz4circ)\n",
    "\n",
    "isa_S4 = S4.apply_layout(layout=isa_circuit.layout)\n",
    "\n",
    "\n",
    "\n",
    "pub = (\n",
    "    isa_circuit,  # circuit\n",
    "    [[isa_S4]],         # Observables\n",
    ")\n",
    "\n",
    "\n",
    "estimator = Estimator(backend, options={\"resilience_level\": 2})\n",
    "job = estimator.run(pubs=[pub])\n",
    "\n",
    "job_result = job.result()"
   ]
  },
  {
   "cell_type": "code",
   "execution_count": 14,
   "id": "b7418df8-796c-4362-89bc-c5de137d5924",
   "metadata": {},
   "outputs": [
    {
     "name": "stdout",
     "output_type": "stream",
     "text": [
      "[7.45986404]\n",
      "[0.21530782]\n",
      "6.82842712474619\n"
     ]
    }
   ],
   "source": [
    "#job = service.job('<JOB-ID-HERE>')\n",
    "#job_result = job.result()\n",
    "s4_est = job_result[0].data.evs[0]\n",
    "ds4 = job_result[0].data.stds[0]\n",
    "\n",
    "print(s4_est)\n",
    "print(ds4)\n",
    "print(2.*(4.-2)+2.*np.sqrt(2.))"
   ]
  },
  {
   "cell_type": "markdown",
   "id": "c2dc899c-9c09-402c-852a-0c8ba61a0038",
   "metadata": {},
   "source": [
    "$N=5$ \n",
    "\n",
    "$$\\hat{S}_{5} = \\hat{A}_{0}(\\hat{B}_{0}+\\hat{B}_{1}) + 2(\\hat{A}_{0}\\hat{C}_{0} +\\hat{C}_{0}\\hat{D}_{0} + \\hat{D}_{0}\\hat{E}_{0}) + \\hat{A}_{1}(\\hat{B}_{0}-\\hat{B}_{1})\\hat{C}_{1}\\hat{D}_{1}\\hat{E}_{1}$$\n",
    "\n",
    "$$\\hat{S}_{5} = \\sqrt{2}\\hat{Z}\\hat{Z}\\hat{I}\\hat{I}\\hat{I} +2\\hat{Z}\\hat{I}\\hat{Z}\\hat{I}\\hat{I} +2\\hat{I}\\hat{I}\\hat{Z}\\hat{Z}\\hat{I}+2\\hat{I}\\hat{I}\\hat{I}\\hat{Z}\\hat{Z}+\\sqrt{2}\\hat{X}\\hat{X}\\hat{X}\\hat{X}\\hat{X}$$"
   ]
  },
  {
   "cell_type": "code",
   "execution_count": 15,
   "id": "ab8cfd34-32f2-4380-9c11-9040bf123df9",
   "metadata": {},
   "outputs": [
    {
     "data": {
      "image/png": "[encoded data removed]",
      "text/plain": [
       "<Figure size 538.33x451.5 with 1 Axes>"
      ]
     },
     "execution_count": 15,
     "metadata": {},
     "output_type": "execute_result"
    }
   ],
   "source": [
    "S5 = SparsePauliOp.from_list([(\"ZZIII\", np.sqrt(2)), (\"ZIZII\", 2.), (\"IIZZI\", 2.), (\"IIIZZ\", 2.), (\"XXXXX\", np.sqrt(2))])\n",
    "\n",
    "qr = QuantumRegister(5,'q')\n",
    "ghz5circ = QuantumCircuit(qr)\n",
    "\n",
    "#GHZ4\n",
    "ghz5circ.h(0)\n",
    "ghz5circ.cx(0,1)\n",
    "ghz5circ.cx(0,2)\n",
    "ghz5circ.cx(0,3)\n",
    "ghz5circ.cx(0,4)\n",
    "\n",
    "ghz5circ.draw('mpl')"
   ]
  },
  {
   "cell_type": "code",
   "execution_count": 17,
   "id": "151c4de0-c0c6-4af2-9c5d-41e091423cfa",
   "metadata": {},
   "outputs": [],
   "source": [
    "pm = generate_preset_pass_manager(backend=backend, optimization_level=3)\n",
    "isa_circuit = pm.run(ghz5circ)\n",
    "\n",
    "isa_S5 = S5.apply_layout(layout=isa_circuit.layout)\n",
    "\n",
    "\n",
    "\n",
    "pub = (\n",
    "    isa_circuit,  # circuit\n",
    "    [[isa_S5]],         # Observables\n",
    ")\n",
    "\n",
    "\n",
    "estimator = Estimator(backend, options={\"resilience_level\": 2})\n",
    "job = estimator.run(pubs=[pub])\n",
    "\n",
    "job_result = job.result()"
   ]
  },
  {
   "cell_type": "code",
   "execution_count": 18,
   "id": "8441f84e-8bb1-4955-b12f-b70ec05e8572",
   "metadata": {},
   "outputs": [
    {
     "name": "stdout",
     "output_type": "stream",
     "text": [
      "[9.43485079]\n",
      "[0.29136709]\n",
      "8.82842712474619\n"
     ]
    }
   ],
   "source": [
    "#job = service.job('<JOB-ID-HERE>')\n",
    "#job_result = job.result()\n",
    "s5_est = job_result[0].data.evs[0]\n",
    "ds5 = job_result[0].data.stds[0]\n",
    "\n",
    "print(s5_est)\n",
    "print(ds5)\n",
    "print(2.*(5.-2)+2.*np.sqrt(2.))"
   ]
  },
  {
   "cell_type": "markdown",
   "id": "d2f23b72-f5cd-43d0-9cba-f24921b995bf",
   "metadata": {},
   "source": [
    "## Version information:"
   ]
  },
  {
   "cell_type": "code",
   "execution_count": 1,
   "id": "37b78a3e-2a5c-413a-b488-52fba3fe8151",
   "metadata": {},
   "outputs": [
    {
     "data": {
      "text/plain": [
       "'0.25.0'"
      ]
     },
     "execution_count": 1,
     "metadata": {},
     "output_type": "execute_result"
    }
   ],
   "source": [
    "import qiskit_ibm_runtime\n",
    "\n",
    "qiskit_ibm_runtime.version.get_version_info()"
   ]
  },
  {
   "cell_type": "code",
   "execution_count": 2,
   "id": "1baec815-46ff-4e39-9ba3-c524741ea88e",
   "metadata": {},
   "outputs": [
    {
     "data": {
      "text/plain": [
       "'1.1.1'"
      ]
     },
     "execution_count": 2,
     "metadata": {},
     "output_type": "execute_result"
    }
   ],
   "source": [
    "import qiskit \n",
    "\n",
    "qiskit.version.get_version_info()"
   ]
  }
 ],
 "metadata": {
  "kernelspec": {
   "display_name": "Python 3 (ipykernel)",
   "language": "python",
   "name": "python3"
  },
  "language_info": {
   "codemirror_mode": {
    "name": "ipython",
    "version": 3
   },
   "file_extension": ".py",
   "mimetype": "text/x-python",
   "name": "python",
   "nbconvert_exporter": "python",
   "pygments_lexer": "ipython3",
   "version": "3.8.5"
  }
 },
 "nbformat": 4,
 "nbformat_minor": 5
}
