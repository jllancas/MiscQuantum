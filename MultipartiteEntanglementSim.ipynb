{
 "cells": [
  {
   "cell_type": "code",
   "execution_count": 2,
   "id": "45826417",
   "metadata": {},
   "outputs": [],
   "source": [
    "from qiskit import *\n",
    "import numpy as np\n",
    "from matplotlib import pyplot as plt"
   ]
  },
  {
   "cell_type": "markdown",
   "id": "734d0014-e57e-4fcd-82c3-f874744539ac",
   "metadata": {},
   "source": [
    "References: \n",
    "\n",
    "Mao <i>et al.</i>: [https://arxiv.org/abs/2201.12753](https://arxiv.org/abs/2201.12753)<p>\n",
    "Cao, Renou <i>et al.</i>: [https://arxiv.org/abs/2201.12754](https://arxiv.org/abs/2201.12754)"
   ]
  },
  {
   "cell_type": "markdown",
   "id": "e6e25e1c-fa6f-4b48-94a6-1760cd2b2f9f",
   "metadata": {},
   "source": [
    "Mao <i>et al.</i> give a general inequality of the form\n",
    "\n",
    "$$\\langle\\hat{S}_{N}\\rangle \\equiv \\langle \\hat{A}_{0}(\\hat{B}_{0}+\\hat{B}_{1}) + 2(\\hat{A}_{0}\\hat{C}_{0} + \\hat{C}_{0}\\hat{D}_{0}+ \\cdots + \\hat{V}_{0}\\hat{W}_{0}) + \\hat{A}_{1}(\\hat{B}_{0}-\\hat{B}_{1})\\hat{C}_{1}\\hat{D}_{1}\\cdots\\hat{W}_{1}\\rangle \\leq 2(N-1)$$\n",
    "\n",
    "QM predicts $\\langle \\hat{S}_{N}\\rangle = 2(N-2)+2\\sqrt{2}$\n",
    "\n",
    "The slightly different convention is that $\\hat{B}_{1}$ has an overall minus sign in its defintion compared to the previous cases.\n",
    "\n",
    "$$\\hat{B}_{0} = \\frac{1}{\\sqrt{2}}\\left(\\hat{\\sigma}^{z}+\\hat{\\sigma}^{x}\\right)$$\n",
    "$$\\hat{B}_{1} = \\frac{1}{\\sqrt{2}}\\left(\\hat{\\sigma}^{z}-\\hat{\\sigma}^{x}\\right)$$\n",
    "\n",
    "All other observers have operators\n",
    "$$\\hat{A}_{0}=\\hat{C}_{0}=\\cdots=\\hat{W}_{0} = \\hat{\\sigma}^{z}$$\n",
    "$$\\hat{A}_{1}=\\hat{C}_{1}=\\cdots=\\hat{W}_{1} = \\hat{\\sigma}^{x}$$\n",
    "Note that the combinations needed are\n",
    "\n",
    "$$\\hat{B}_{+}=\\hat{B}_{0}+\\hat{B}_{1}=\\sqrt{2}\\hat{\\sigma}^{z}$$\n",
    "$$\\hat{B}_{-}=\\hat{B}_{0}-\\hat{B}_{1}=\\sqrt{2}\\hat{\\sigma}^{z}$$\n",
    "\n",
    "QM predicts $\\langle\\hat{S}_{N}\\rangle = 2(N-2)+2\\sqrt{2}$. Explicit forms for $N=3,4,5,6$ are\n",
    "\n",
    "$$\\hat{S}_{3} = \\hat{A}_{0}(\\hat{B}_{0}+\\hat{B}_{1}) + 2(\\hat{A}_{0}\\hat{C}_{0}) + \\hat{A}_{1}(\\hat{B}_{0}-\\hat{B}_{1})\\hat{C}_{1}$$\n",
    "$$\\hat{S}_{4} = \\hat{A}_{0}(\\hat{B}_{0}+\\hat{B}_{1}) + 2(\\hat{A}_{0}\\hat{C}_{0} +\\hat{C}_{0}\\hat{D}_{0}) + \\hat{A}_{1}(\\hat{B}_{0}-\\hat{B}_{1})\\hat{C}_{1}\\hat{D}_{0}$$\n",
    "$$\\hat{S}_{5} = \\hat{A}_{0}(\\hat{B}_{0}+\\hat{B}_{1}) + 2(\\hat{A}_{0}\\hat{C}_{0} +\\hat{C}_{0}\\hat{D}_{0}+\\hat{D}_{0}\\hat{E}_{0}) + \\hat{A}_{1}(\\hat{B}_{0}-\\hat{B}_{1})\\hat{C}_{1}\\hat{D}_{0}\\hat{E}_{0}$$\n",
    "$$\\hat{S}_{6} = \\hat{A}_{0}(\\hat{B}_{0}+\\hat{B}_{1}) + 2(\\hat{A}_{0}\\hat{C}_{0} +\\hat{C}_{0}\\hat{D}_{0}+\\hat{D}_{0}\\hat{E}_{0}+\\hat{E}_{0}\\hat{F}_{0}) + \\hat{A}_{1}(\\hat{B}_{0}-\\hat{B}_{1})\\hat{C}_{1}\\hat{D}_{0}\\hat{E}_{0}\\hat{F}_{0}$$\n"
   ]
  },
  {
   "cell_type": "markdown",
   "id": "f41887d7-4ff0-4867-a19a-7d50bc0945d9",
   "metadata": {},
   "source": [
    "$N=3$\n",
    "$$\\hat{S}_{3} = \\hat{A}_{0}(\\hat{B}_{0}+\\hat{B}_{1}) + 2(\\hat{A}_{0}\\hat{C}_{0}) + \\hat{A}_{1}(\\hat{B}_{0}-\\hat{B}_{1})\\hat{C}_{1}$$\n",
    "$$\\hat{S}_{3} = \\sqrt{2}\\hat{Z}\\hat{Z}\\hat{I} + 2\\hat{Z}\\hat{I}\\hat{Z} + \\sqrt{2}\\hat{X}\\hat{X}\\hat{X}$$"
   ]
  },
  {
   "cell_type": "code",
   "execution_count": 3,
   "id": "34c71e87-c6c2-425b-b011-8770cd972d71",
   "metadata": {},
   "outputs": [
    {
     "data": {
      "image/png": "[encoded data removed]",
      "text/plain": [
       "<Figure size 371.107x284.278 with 1 Axes>"
      ]
     },
     "execution_count": 3,
     "metadata": {},
     "output_type": "execute_result"
    }
   ],
   "source": [
    "from qiskit.quantum_info import SparsePauliOp\n",
    "\n",
    "S3 = SparsePauliOp.from_list([(\"ZZI\", np.sqrt(2)), (\"ZIZ\", 2.), (\"XXX\", np.sqrt(2))])\n",
    "\n",
    "qr = QuantumRegister(3,'q')\n",
    "ghz3circ = QuantumCircuit(qr)\n",
    "\n",
    "#GHZ3\n",
    "ghz3circ.h(0)\n",
    "ghz3circ.cx(0,1)\n",
    "ghz3circ.cx(0,2)\n",
    "ghz3circ.draw('mpl')"
   ]
  },
  {
   "cell_type": "code",
   "execution_count": 4,
   "id": "d853900f-5d13-41d4-90dd-7aa6f00c7d5a",
   "metadata": {},
   "outputs": [
    {
     "name": "stdout",
     "output_type": "stream",
     "text": [
      "[4.82842712]\n",
      "4.82842712474619\n"
     ]
    }
   ],
   "source": [
    "estimator = StatevectorEstimator()\n",
    "\n",
    "pub = (\n",
    "    ghz3circ,  # circuit\n",
    "    [[S3]],  # Observables\n",
    ")\n",
    "\n",
    "job_result = estimator.run(pubs=[pub]).result()\n",
    "\n",
    "s3_est = job_result[0].data.evs[0]\n",
    "\n",
    "print(s3_est)\n",
    "print(2.*(3.-2)+2.*np.sqrt(2.))"
   ]
  },
  {
   "cell_type": "markdown",
   "id": "7062d630-f68d-42c1-953d-77839f789ab9",
   "metadata": {},
   "source": [
    "$N=4$ \n",
    "\n",
    "$$\\hat{S}_{4} = \\hat{A}_{0}(\\hat{B}_{0}+\\hat{B}_{1}) + 2(\\hat{A}_{0}\\hat{C}_{0} +\\hat{C}_{0}\\hat{D}_{0}) + \\hat{A}_{1}(\\hat{B}_{0}-\\hat{B}_{1})\\hat{C}_{1}\\hat{D}_{1}$$\n",
    "\n",
    "$$\\hat{S}_{4} = \\sqrt{2}\\hat{Z}\\hat{Z}\\hat{I}\\hat{I} +2\\hat{Z}\\hat{I}\\hat{Z}\\hat{I} + +2\\hat{I}\\hat{I}\\hat{Z}\\hat{Z}+\\sqrt{2}\\hat{X}\\hat{X}\\hat{X}\\hat{X}$$"
   ]
  },
  {
   "cell_type": "code",
   "execution_count": 5,
   "id": "3a973248-3630-439b-b4a3-df446fdfa00c",
   "metadata": {},
   "outputs": [
    {
     "data": {
      "image/png": "[encoded data removed]",
      "text/plain": [
       "<Figure size 454.719x367.889 with 1 Axes>"
      ]
     },
     "execution_count": 5,
     "metadata": {},
     "output_type": "execute_result"
    }
   ],
   "source": [
    "S4 = SparsePauliOp.from_list([(\"ZZII\", np.sqrt(2)), (\"ZIZI\", 2.), (\"IIZZ\", 2.), (\"XXXX\", np.sqrt(2))])\n",
    "\n",
    "qr = QuantumRegister(4,'q')\n",
    "ghz4circ = QuantumCircuit(qr)\n",
    "\n",
    "#GHZ4\n",
    "ghz4circ.h(0)\n",
    "ghz4circ.cx(0,1)\n",
    "ghz4circ.cx(0,2)\n",
    "ghz4circ.cx(0,3)\n",
    "\n",
    "ghz4circ.draw('mpl')"
   ]
  },
  {
   "cell_type": "code",
   "execution_count": 6,
   "id": "6e43f1a0-c72a-4c48-9ad4-c3d3127086fc",
   "metadata": {},
   "outputs": [
    {
     "name": "stdout",
     "output_type": "stream",
     "text": [
      "[6.82842712]\n",
      "6.82842712474619\n"
     ]
    }
   ],
   "source": [
    "from qiskit.primitives import StatevectorEstimator\n",
    "\n",
    "estimator = StatevectorEstimator()\n",
    "\n",
    "pub = (\n",
    "    ghz4circ,  # circuit\n",
    "    [[S4]],  # Observables\n",
    ")\n",
    "\n",
    "job_result = estimator.run(pubs=[pub]).result()\n",
    "\n",
    "s4_est = job_result[0].data.evs[0]\n",
    "\n",
    "print(s4_est)\n",
    "print(2.*(4.-2)+2.*np.sqrt(2.))"
   ]
  },
  {
   "cell_type": "markdown",
   "id": "c2dc899c-9c09-402c-852a-0c8ba61a0038",
   "metadata": {},
   "source": [
    "$N=5$ \n",
    "\n",
    "$$\\hat{S}_{5} = \\hat{A}_{0}(\\hat{B}_{0}+\\hat{B}_{1}) + 2(\\hat{A}_{0}\\hat{C}_{0} +\\hat{C}_{0}\\hat{D}_{0} + \\hat{D}_{0}\\hat{E}_{0}) + \\hat{A}_{1}(\\hat{B}_{0}-\\hat{B}_{1})\\hat{C}_{1}\\hat{D}_{1}\\hat{E}_{1}$$\n",
    "\n",
    "$$\\hat{S}_{5} = \\sqrt{2}\\hat{Z}\\hat{Z}\\hat{I}\\hat{I}\\hat{I} +2\\hat{Z}\\hat{I}\\hat{Z}\\hat{I}\\hat{I} +2\\hat{I}\\hat{I}\\hat{Z}\\hat{Z}\\hat{I}+2\\hat{I}\\hat{I}\\hat{I}\\hat{Z}\\hat{Z}+\\sqrt{2}\\hat{X}\\hat{X}\\hat{X}\\hat{X}\\hat{X}$$"
   ]
  },
  {
   "cell_type": "code",
   "execution_count": 7,
   "id": "ab8cfd34-32f2-4380-9c11-9040bf123df9",
   "metadata": {},
   "outputs": [
    {
     "data": {
      "image/png": "[encoded data removed]",
      "text/plain": [
       "<Figure size 538.33x451.5 with 1 Axes>"
      ]
     },
     "execution_count": 7,
     "metadata": {},
     "output_type": "execute_result"
    }
   ],
   "source": [
    "S5 = SparsePauliOp.from_list([(\"ZZIII\", np.sqrt(2)), (\"ZIZII\", 2.), (\"IIZZI\", 2.), (\"IIIZZ\", 2.), (\"XXXXX\", np.sqrt(2))])\n",
    "\n",
    "qr = QuantumRegister(5,'q')\n",
    "ghz5circ = QuantumCircuit(qr)\n",
    "\n",
    "#GHZ4\n",
    "ghz5circ.h(0)\n",
    "ghz5circ.cx(0,1)\n",
    "ghz5circ.cx(0,2)\n",
    "ghz5circ.cx(0,3)\n",
    "ghz5circ.cx(0,4)\n",
    "\n",
    "ghz5circ.draw('mpl')"
   ]
  },
  {
   "cell_type": "code",
   "execution_count": 8,
   "id": "133d2b88-396c-4924-b2dc-6e4cedba73ba",
   "metadata": {},
   "outputs": [
    {
     "name": "stdout",
     "output_type": "stream",
     "text": [
      "[8.82842712]\n",
      "8.82842712474619\n"
     ]
    }
   ],
   "source": [
    "estimator = StatevectorEstimator()\n",
    "\n",
    "pub = (\n",
    "    ghz5circ,  # circuit\n",
    "    [[S5]],  # Observables\n",
    ")\n",
    "\n",
    "job_result = estimator.run(pubs=[pub]).result()\n",
    "\n",
    "s5_est = job_result[0].data.evs[0]\n",
    "\n",
    "print(s5_est)\n",
    "print(2.*(5.-2)+2.*np.sqrt(2.))"
   ]
  },
  {
   "cell_type": "markdown",
   "id": "bb13f627-bde9-472b-a818-0b2463c6c235",
   "metadata": {},
   "source": [
    "$N=6$ \n",
    "\n",
    "$$\\hat{S}_{6} = \\hat{A}_{0}(\\hat{B}_{0}+\\hat{B}_{1}) + 2(\\hat{A}_{0}\\hat{C}_{0} +\\hat{C}_{0}\\hat{D}_{0} + \\hat{D}_{0}\\hat{E}_{0}+\\hat{E}_{0}\\hat{F}_{0}) + \\hat{A}_{1}(\\hat{B}_{0}-\\hat{B}_{1})\\hat{C}_{1}\\hat{D}_{1}\\hat{E}_{1}\\hat{F}_{1}$$\n",
    "\n",
    "$$\\hat{S}_{6} = \\sqrt{2}\\hat{Z}\\hat{Z}\\hat{I}\\hat{I}\\hat{I}\\hat{I} +2\\hat{Z}\\hat{I}\\hat{Z}\\hat{I}\\hat{I}\\hat{I} +2\\hat{I}\\hat{I}\\hat{Z}\\hat{Z}\\hat{I}\\hat{I}+2\\hat{I}\\hat{I}\\hat{I}\\hat{Z}\\hat{Z}\\hat{I}+2\\hat{I}\\hat{I}\\hat{I}\\hat{I}\\hat{Z}\\hat{Z}+\\sqrt{2}\\hat{X}\\hat{X}\\hat{X}\\hat{X}\\hat{X}$$"
   ]
  },
  {
   "cell_type": "code",
   "execution_count": 9,
   "id": "fef3527d-3a0b-4e2c-9330-2754066aea0d",
   "metadata": {},
   "outputs": [
    {
     "data": {
      "image/png": "[encoded data removed]",
      "text/plain": [
       "<Figure size 621.941x535.111 with 1 Axes>"
      ]
     },
     "execution_count": 9,
     "metadata": {},
     "output_type": "execute_result"
    }
   ],
   "source": [
    "S6 = SparsePauliOp.from_list([(\"ZZIIII\", np.sqrt(2)), (\"ZIZIII\", 2.), (\"IIZZII\", 2.), (\"IIIZZI\", 2.), (\"IIIIZZ\", 2.), (\"XXXXXX\", np.sqrt(2))])\n",
    "\n",
    "qr = QuantumRegister(6,'q')\n",
    "ghz6circ = QuantumCircuit(qr)\n",
    "\n",
    "#GHZ6\n",
    "ghz6circ.h(0)\n",
    "ghz6circ.cx(0,1)\n",
    "ghz6circ.cx(0,2)\n",
    "ghz6circ.cx(0,3)\n",
    "ghz6circ.cx(0,4)\n",
    "ghz6circ.cx(0,5)\n",
    "\n",
    "ghz6circ.draw('mpl')"
   ]
  },
  {
   "cell_type": "code",
   "execution_count": 10,
   "id": "abef8023",
   "metadata": {},
   "outputs": [
    {
     "name": "stdout",
     "output_type": "stream",
     "text": [
      "[10.82842712]\n",
      "10.82842712474619\n"
     ]
    }
   ],
   "source": [
    "estimator = StatevectorEstimator()\n",
    "\n",
    "pub = (\n",
    "    ghz6circ,  # circuit\n",
    "    [[S6]],  # Observables\n",
    ")\n",
    "\n",
    "job_result = estimator.run(pubs=[pub]).result()\n",
    "\n",
    "s6_est = job_result[0].data.evs[0]\n",
    "\n",
    "print(s6_est)\n",
    "print(2.*(6.-2)+2.*np.sqrt(2.))"
   ]
  },
  {
   "cell_type": "markdown",
   "id": "8d65ac5a-6db3-4871-966b-4636e8980ce1",
   "metadata": {},
   "source": [
    "## Version information:"
   ]
  },
  {
   "cell_type": "code",
   "execution_count": 11,
   "id": "0a640e56-911c-4574-b8f0-bf9a761e9459",
   "metadata": {},
   "outputs": [
    {
     "data": {
      "text/plain": [
       "'0.25.0'"
      ]
     },
     "execution_count": 11,
     "metadata": {},
     "output_type": "execute_result"
    }
   ],
   "source": [
    "import qiskit_ibm_runtime\n",
    "\n",
    "qiskit_ibm_runtime.version.get_version_info()"
   ]
  },
  {
   "cell_type": "code",
   "execution_count": 12,
   "id": "50aeb485-1939-44c0-9579-0c166bf2d255",
   "metadata": {},
   "outputs": [
    {
     "data": {
      "text/plain": [
       "'1.1.1'"
      ]
     },
     "execution_count": 12,
     "metadata": {},
     "output_type": "execute_result"
    }
   ],
   "source": [
    "import qiskit \n",
    "\n",
    "qiskit.version.get_version_info()"
   ]
  }
 ],
 "metadata": {
  "kernelspec": {
   "display_name": "Python 3 (ipykernel)",
   "language": "python",
   "name": "python3"
  },
  "language_info": {
   "codemirror_mode": {
    "name": "ipython",
    "version": 3
   },
   "file_extension": ".py",
   "mimetype": "text/x-python",
   "name": "python",
   "nbconvert_exporter": "python",
   "pygments_lexer": "ipython3",
   "version": "3.8.5"
  }
 },
 "nbformat": 4,
 "nbformat_minor": 5
}
