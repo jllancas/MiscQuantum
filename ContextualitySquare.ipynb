{
 "cells": [
  {
   "cell_type": "markdown",
   "id": "a6fb0d60",
   "metadata": {},
   "source": [
    "# Quantum contextuality"
   ]
  },
  {
   "cell_type": "markdown",
   "id": "e5031e62-3220-4ffe-abf8-f3fc90860957",
   "metadata": {},
   "source": [
    "## Peres-Mermin Square"
   ]
  },
  {
   "cell_type": "code",
   "execution_count": 1,
   "id": "6be8a101",
   "metadata": {},
   "outputs": [],
   "source": [
    "from qiskit import *\n",
    "import numpy as np\n",
    "from matplotlib import pyplot as plt"
   ]
  },
  {
   "cell_type": "markdown",
   "id": "2781981d-6327-4101-a70b-575b7a45b496",
   "metadata": {},
   "source": [
    "Two-state mapping to qutrit states\n",
    "\n",
    "Consider the following object\n",
    "\n",
    "$$\\left[\\begin{array}{ccc} \\hat{A} & \\hat{B} & \\hat{C}\\\\ \\hat{a} & \\hat{b} & \\hat{c}\\\\ \\hat{\\alpha} & \\hat{\\beta} & \\hat{\\gamma}\\end{array}\\right]$$\n",
    "\n",
    "Each quantity corresponds to some dichotomic measurement (always $\\pm 1$). It is assumed each element commutes with every other element in its row and column but not necessarily with other objects. We say each row (and each column) forms a \"context.\" Clearly, due to commutations, we can simultaneously define values for objects within a context since commuting observables imply simultaneous eigenstates. Classically, each of these nine objects has a well-defined value independently of whether or not it is measured. Suppose each quantity is assigned a value of 1 and consider the six products\n",
    "\n",
    "$$ABC, abc, \\alpha\\beta\\gamma, Aa\\alpha, Bb\\beta, Cc\\gamma$$\n",
    "\n",
    "We observe that for arbitrary values of $A, \\cdots, \\gamma$, only an even number of these terms can be positive since changing one will flip the sign of two terms. Let $\\mathcal{M} = ABC+ abc+ \\alpha\\beta\\gamma+ Aa\\alpha+ Bb\\beta-Cc\\gamma$. Then it follows we have $|\\mathcal{M}|\\leq 4$. Classically, we could just enumerate the $2^{9}$ possibilities. In fact, one can show that $\\mathcal{M}\\in\\left\\{-4,0,4\\right\\}$. Considering some averaging of dichotomic measurements, it follows that\n",
    "\n",
    "$$\\langle \\mathcal{M} \\rangle = \\langle ABC\\rangle+ \\langle abc\\rangle+ \\langle\\alpha\\beta\\gamma\\rangle+ \\langle Aa\\alpha\\rangle+ \\langle Bb\\beta\\rangle-\\langle Cc\\gamma\\rangle \\leq 4$$"
   ]
  },
  {
   "cell_type": "code",
   "execution_count": 11,
   "id": "a4318831-c868-4416-8e9c-abaf5ceaed27",
   "metadata": {},
   "outputs": [
    {
     "name": "stdout",
     "output_type": "stream",
     "text": [
      "[-4.  0.  4.]\n"
     ]
    }
   ],
   "source": [
    "M = np.zeros(2**9)\n",
    "s = 0\n",
    "\n",
    "for i in range(0,2):\n",
    "    for j in range(0,2):\n",
    "        for k in range(0,2):\n",
    "            for l in range(0,2):\n",
    "                for m in range(0,2):\n",
    "                    for n in range(0,2):\n",
    "                        for p in range(0,2):\n",
    "                            for q in range(0,2):\n",
    "                                for r in range(0,2):\n",
    "                                    \n",
    "                                    A = (-1)**i\n",
    "                                    B = (-1)**j\n",
    "                                    C = (-1)**k\n",
    "                                    \n",
    "                                    a = (-1)**l\n",
    "                                    b = (-1)**m\n",
    "                                    c = (-1)**n\n",
    "                                    \n",
    "                                    α = (-1)**p\n",
    "                                    β = (-1)**q\n",
    "                                    γ = (-1)**r\n",
    "                                    \n",
    "                                    M[s] = A*B*C + a*b*c + α*β*γ + A*a*α + B*b*β - C*c*γ\n",
    "                                    s = s + 1\n",
    "\n",
    "M = np.unique(M)\n",
    "\n",
    "print(M)"
   ]
  },
  {
   "cell_type": "markdown",
   "id": "64156bc9-5fea-4731-bdda-6e10fe1c8cb7",
   "metadata": {},
   "source": [
    "Quantum mechanically, the situation is more subtle. A set of operators which satisfies this commutation structure is\n",
    "\n",
    "$$\\left[\\begin{array}{ccc} \\hat{A} & \\hat{B} & \\hat{C}\\\\ \\hat{a} & \\hat{b} & \\hat{c}\\\\ \\hat{\\alpha} & \\hat{\\beta} & \\hat{\\gamma}\\end{array}\\right] = \\left[\\begin{array}{ccc} \\hat{\\sigma}^{z}\\otimes\\hat{I} & \\hat{I}\\otimes\\hat{\\sigma}^{z} & \\hat{\\sigma}^{z}\\otimes\\hat{\\sigma}^{z}\\\\ \\hat{I}\\otimes\\hat{\\sigma}^{x} & \\hat{\\sigma}^{x}\\otimes\\hat{I} & \\hat{\\sigma}^{x}\\otimes\\hat{\\sigma}^{x}\\\\ \\hat{\\sigma}^{z}\\otimes\\hat{\\sigma}^{x} & \\hat{\\sigma}^{x}\\otimes\\hat{\\sigma}^{z} & \\hat{\\sigma}^{y}\\otimes\\hat{\\sigma}^{y}\\end{array}\\right]$$\n",
    "\n",
    "Most of the commutators can be verified by inspection, but it's simple enough to use Qiskit to check them."
   ]
  },
  {
   "cell_type": "code",
   "execution_count": 12,
   "id": "c164d42c-376f-466e-8a02-ec3e53bdd5e5",
   "metadata": {},
   "outputs": [],
   "source": [
    "from qiskit.quantum_info import SparsePauliOp\n",
    "\n",
    "A = SparsePauliOp.from_list([(\"ZI\", 1.0)])\n",
    "B = SparsePauliOp.from_list([(\"IZ\", 1.0)])\n",
    "C = SparsePauliOp.from_list([(\"ZZ\", 1.0)])\n",
    "\n",
    "a = SparsePauliOp.from_list([(\"IX\", 1.0)])\n",
    "b = SparsePauliOp.from_list([(\"XI\", 1.0)])\n",
    "c = SparsePauliOp.from_list([(\"XX\", 1.0)])\n",
    "\n",
    "α = SparsePauliOp.from_list([(\"ZX\", 1.0)])\n",
    "β = SparsePauliOp.from_list([(\"XZ\", 1.0)])\n",
    "γ = SparsePauliOp.from_list([(\"YY\", 1.0)])"
   ]
  },
  {
   "cell_type": "markdown",
   "id": "51093f62-d3f6-4327-98fe-a32317b7607a",
   "metadata": {},
   "source": [
    "For example:"
   ]
  },
  {
   "cell_type": "code",
   "execution_count": 18,
   "id": "cd2c48ef-a988-4b16-92ce-18c5f0fdccdc",
   "metadata": {},
   "outputs": [
    {
     "data": {
      "text/plain": [
       "SparsePauliOp(['II'],\n",
       "              coeffs=[0.+0.j])"
      ]
     },
     "execution_count": 18,
     "metadata": {},
     "output_type": "execute_result"
    }
   ],
   "source": [
    "SparsePauliOp.simplify(α @ γ - γ @ α)"
   ]
  },
  {
   "cell_type": "code",
   "execution_count": 19,
   "id": "3f0adf3c-fc65-49cb-85f0-6568c386e786",
   "metadata": {},
   "outputs": [
    {
     "data": {
      "text/plain": [
       "SparsePauliOp(['II'],\n",
       "              coeffs=[0.+0.j])"
      ]
     },
     "execution_count": 19,
     "metadata": {},
     "output_type": "execute_result"
    }
   ],
   "source": [
    "SparsePauliOp.simplify(C @ c - c @ C)"
   ]
  },
  {
   "cell_type": "markdown",
   "id": "24a72db3-311b-44fb-a9e0-b69261db73ab",
   "metadata": {},
   "source": [
    "But objects from different contexts do not commute. For example"
   ]
  },
  {
   "cell_type": "code",
   "execution_count": 20,
   "id": "e748d597-26ae-45e7-9637-e0b72ebff281",
   "metadata": {},
   "outputs": [
    {
     "data": {
      "text/plain": [
       "SparsePauliOp(['XY'],\n",
       "              coeffs=[0.-2.j])"
      ]
     },
     "execution_count": 20,
     "metadata": {},
     "output_type": "execute_result"
    }
   ],
   "source": [
    "SparsePauliOp.simplify(A @ γ - γ @ A)"
   ]
  },
  {
   "cell_type": "markdown",
   "id": "db9c8f7c-60a9-4b0f-8805-8c9d1c187d88",
   "metadata": {},
   "source": [
    "Returning to the question of $\\mathcal{M}$, we can simplify the operators as follows."
   ]
  },
  {
   "cell_type": "code",
   "execution_count": 22,
   "id": "ac866ded-6362-425c-8bfa-66cefdbf1eb3",
   "metadata": {},
   "outputs": [
    {
     "data": {
      "text/plain": [
       "SparsePauliOp(['II'],\n",
       "              coeffs=[1.+0.j])"
      ]
     },
     "execution_count": 22,
     "metadata": {},
     "output_type": "execute_result"
    }
   ],
   "source": [
    "SparsePauliOp.simplify(A @ a @ α)"
   ]
  },
  {
   "cell_type": "code",
   "execution_count": 23,
   "id": "d34fc84a-16aa-4aa6-aacb-5106330baf83",
   "metadata": {},
   "outputs": [
    {
     "data": {
      "text/plain": [
       "SparsePauliOp(['II'],\n",
       "              coeffs=[1.+0.j])"
      ]
     },
     "execution_count": 23,
     "metadata": {},
     "output_type": "execute_result"
    }
   ],
   "source": [
    "SparsePauliOp.simplify(B @ b @ β)"
   ]
  },
  {
   "cell_type": "code",
   "execution_count": 24,
   "id": "660c4974-ce48-4f6f-8b49-cb9df001e01a",
   "metadata": {},
   "outputs": [
    {
     "data": {
      "text/plain": [
       "SparsePauliOp(['II'],\n",
       "              coeffs=[-1.-0.j])"
      ]
     },
     "execution_count": 24,
     "metadata": {},
     "output_type": "execute_result"
    }
   ],
   "source": [
    "SparsePauliOp.simplify(C @ c @ γ)"
   ]
  },
  {
   "cell_type": "code",
   "execution_count": 25,
   "id": "fdcebd86-0ecd-48f9-b135-a6d3cb320491",
   "metadata": {},
   "outputs": [
    {
     "data": {
      "text/plain": [
       "SparsePauliOp(['II'],\n",
       "              coeffs=[1.+0.j])"
      ]
     },
     "execution_count": 25,
     "metadata": {},
     "output_type": "execute_result"
    }
   ],
   "source": [
    "SparsePauliOp.simplify(A @ B @ C)"
   ]
  },
  {
   "cell_type": "code",
   "execution_count": 26,
   "id": "837d28b6-2ec1-4f67-9147-36bc12af88d4",
   "metadata": {},
   "outputs": [
    {
     "data": {
      "text/plain": [
       "SparsePauliOp(['II'],\n",
       "              coeffs=[1.+0.j])"
      ]
     },
     "execution_count": 26,
     "metadata": {},
     "output_type": "execute_result"
    }
   ],
   "source": [
    "SparsePauliOp.simplify(B @ b @ β)"
   ]
  },
  {
   "cell_type": "code",
   "execution_count": 27,
   "id": "082cdab0-f192-4989-8ffe-2bf7d48a7518",
   "metadata": {},
   "outputs": [
    {
     "data": {
      "text/plain": [
       "SparsePauliOp(['II'],\n",
       "              coeffs=[-1.-0.j])"
      ]
     },
     "execution_count": 27,
     "metadata": {},
     "output_type": "execute_result"
    }
   ],
   "source": [
    "SparsePauliOp.simplify(C @ c @ γ)"
   ]
  },
  {
   "cell_type": "markdown",
   "id": "0483233d-ec57-47c3-8193-52b919219430",
   "metadata": {},
   "source": [
    "In other words, for <i>any</i> quantum state, \n",
    "\n",
    "$$\\langle \\Psi | \\hat{\\mathcal{M}}|\\Psi\\rangle = \\langle \\Psi | \\left[\\hat{A}\\hat{B}\\hat{C} + \\hat{a}\\hat{b}\\hat{c} +\\hat{\\alpha}\\hat{\\beta}\\hat{\\gamma} + \\hat{A}\\hat{a}\\hat{\\alpha} + \\hat{B}\\hat{b}\\hat{\\beta} - \\hat{C}\\hat{c}\\hat{\\gamma}\\right]|\\Psi\\rangle = \\langle \\Psi| 6\\hat{I} |\\Psi\\rangle = 6$$\n",
    "\n",
    "That's a <i>clear</i> violation of the basic inequality based on classical non-contextuality. \n",
    "\n",
    "Let's try measuring each of the six terms with a circuit for some specified initial state. This illuminates a potential point of confusion regarding what we're trying to measure. That is, let's measure each of the nine operators by measuring <i>both</i> qubits individually and see what happens."
   ]
  },
  {
   "cell_type": "markdown",
   "id": "aa572ba2-0da3-49e6-85cf-5175d6b99371",
   "metadata": {},
   "source": [
    "$\\hat{A}\\hat{B}\\hat{C}$"
   ]
  },
  {
   "cell_type": "code",
   "execution_count": 130,
   "id": "cf6a1672-4ee2-48b7-88ee-7d671b9db54c",
   "metadata": {},
   "outputs": [
    {
     "data": {
      "image/png": "[encoded data removed]",
      "text/plain": [
       "<Figure size 621.739x284.278 with 1 Axes>"
      ]
     },
     "execution_count": 130,
     "metadata": {},
     "output_type": "execute_result"
    }
   ],
   "source": [
    "circs = []\n",
    "\n",
    "qr = QuantumRegister(2,'q')\n",
    "cr = ClassicalRegister(4,'c')\n",
    "circ = QuantumCircuit(qr,cr)\n",
    "\n",
    "#O1\n",
    "circ.measure(0,3)\n",
    "circ.barrier()\n",
    "\n",
    "#O2\n",
    "circ.measure(1,2)\n",
    "circ.barrier()\n",
    "\n",
    "#O3\n",
    "circ.measure([0,1],[0,1])\n",
    "\n",
    "circs.append(circ)\n",
    "\n",
    "circ.draw('mpl')"
   ]
  },
  {
   "cell_type": "markdown",
   "id": "1397cdff-ce68-4dcb-b9b0-7537a657a728",
   "metadata": {},
   "source": [
    "$\\hat{a}\\hat{b}\\hat{c}$"
   ]
  },
  {
   "cell_type": "code",
   "execution_count": 131,
   "id": "f4240afe-7f1e-406a-9704-7e3cca1435b1",
   "metadata": {},
   "outputs": [
    {
     "data": {
      "image/png": "[encoded data removed]",
      "text/plain": [
       "<Figure size 1039.79x284.278 with 1 Axes>"
      ]
     },
     "execution_count": 131,
     "metadata": {},
     "output_type": "execute_result"
    }
   ],
   "source": [
    "qr = QuantumRegister(2,'q')\n",
    "cr = ClassicalRegister(4,'c')\n",
    "circ = QuantumCircuit(qr,cr)\n",
    "\n",
    "#O1\n",
    "circ.ry(-np.pi/2,1)\n",
    "circ.measure(1,3)\n",
    "circ.ry(np.pi/2,1)\n",
    "circ.barrier()\n",
    "\n",
    "#O2\n",
    "circ.ry(-np.pi/2,0)\n",
    "circ.measure(0,2)\n",
    "circ.ry(np.pi/2,0)\n",
    "circ.barrier()\n",
    "\n",
    "#O3\n",
    "circ.ry(-np.pi/2,0)\n",
    "circ.ry(-np.pi/2,1)\n",
    "circ.measure([0,1],[0,1])\n",
    "\n",
    "circs.append(circ)\n",
    "\n",
    "circ.draw('mpl')"
   ]
  },
  {
   "cell_type": "markdown",
   "id": "145cb5f3-6da2-4df7-b9be-3702af90d2a1",
   "metadata": {},
   "source": [
    "$\\hat{\\alpha}\\hat{\\beta}\\hat{\\gamma}$"
   ]
  },
  {
   "cell_type": "code",
   "execution_count": 132,
   "id": "cb9815e4-9fde-4e53-8d6f-0716ea93595e",
   "metadata": {},
   "outputs": [
    {
     "data": {
      "image/png": "[encoded data removed]",
      "text/plain": [
       "<Figure size 1123.41x284.278 with 1 Axes>"
      ]
     },
     "execution_count": 132,
     "metadata": {},
     "output_type": "execute_result"
    }
   ],
   "source": [
    "qr = QuantumRegister(2,'q')\n",
    "cr = ClassicalRegister(6,'c')\n",
    "circ = QuantumCircuit(qr,cr)\n",
    "\n",
    "#O1\n",
    "circ.ry(-np.pi/2,1)\n",
    "circ.measure(0,5)\n",
    "circ.measure(1,4)\n",
    "circ.ry(np.pi/2,1)\n",
    "circ.barrier()\n",
    "\n",
    "#O2\n",
    "circ.ry(-np.pi/2,0)\n",
    "circ.measure(0,3)\n",
    "circ.measure(1,2)\n",
    "circ.ry(np.pi/2,0)\n",
    "circ.barrier()\n",
    "\n",
    "#O3\n",
    "circ.rx(np.pi/2,0)\n",
    "circ.rx(np.pi/2,1)\n",
    "circ.measure([0,1],[0,1])\n",
    "\n",
    "circs.append(circ)\n",
    "\n",
    "circ.draw('mpl')"
   ]
  },
  {
   "cell_type": "markdown",
   "id": "295c7543-5a4b-4b98-a47f-dc01ebbac107",
   "metadata": {},
   "source": [
    "$\\hat{A}\\hat{a}\\hat{\\alpha}$"
   ]
  },
  {
   "cell_type": "code",
   "execution_count": 133,
   "id": "a9677e90-c474-40b8-a6d0-9a11b58822a2",
   "metadata": {},
   "outputs": [
    {
     "data": {
      "image/png": "[encoded data removed]",
      "text/plain": [
       "<Figure size 872.572x284.278 with 1 Axes>"
      ]
     },
     "execution_count": 133,
     "metadata": {},
     "output_type": "execute_result"
    }
   ],
   "source": [
    "qr = QuantumRegister(2,'q')\n",
    "cr = ClassicalRegister(4,'c')\n",
    "circ = QuantumCircuit(qr,cr)\n",
    "\n",
    "#O1\n",
    "circ.measure(0,3)\n",
    "circ.barrier()\n",
    "\n",
    "#O2\n",
    "circ.ry(-np.pi/2,1)\n",
    "circ.measure(1,2)\n",
    "circ.ry(np.pi/2,1)\n",
    "circ.barrier()\n",
    "\n",
    "#O3\n",
    "circ.ry(-np.pi/2,1)\n",
    "circ.measure([0,1],[0,1])\n",
    "\n",
    "circs.append(circ)\n",
    "\n",
    "circ.draw('mpl')"
   ]
  },
  {
   "cell_type": "markdown",
   "id": "4210bac4-a81d-4c52-b9c0-df7ffef07c5d",
   "metadata": {},
   "source": [
    "$\\hat{B}\\hat{b}\\hat{\\beta}$"
   ]
  },
  {
   "cell_type": "code",
   "execution_count": 134,
   "id": "0ba4deed-9702-4fd9-a0db-6b02f685d630",
   "metadata": {},
   "outputs": [
    {
     "data": {
      "image/png": "[encoded data removed]",
      "text/plain": [
       "<Figure size 788.961x284.278 with 1 Axes>"
      ]
     },
     "execution_count": 134,
     "metadata": {},
     "output_type": "execute_result"
    }
   ],
   "source": [
    "qr = QuantumRegister(2,'q')\n",
    "cr = ClassicalRegister(4,'c')\n",
    "circ = QuantumCircuit(qr,cr)\n",
    "\n",
    "#O1\n",
    "circ.measure(1,3)\n",
    "circ.barrier()\n",
    "\n",
    "#O2\n",
    "circ.ry(-np.pi/2,0)\n",
    "circ.measure(0,2)\n",
    "circ.ry(np.pi/2,0)\n",
    "circ.barrier()\n",
    "\n",
    "#O3\n",
    "circ.ry(-np.pi/2,0)\n",
    "circ.measure([0,1],[0,1])\n",
    "\n",
    "circs.append(circ)\n",
    "\n",
    "circ.draw('mpl')"
   ]
  },
  {
   "cell_type": "markdown",
   "id": "6bba800e-5e96-4d2b-b6a8-1b2cc81b172d",
   "metadata": {},
   "source": [
    "$\\hat{C}\\hat{c}\\hat{\\gamma}$"
   ]
  },
  {
   "cell_type": "code",
   "execution_count": 135,
   "id": "c197bbd5-dac4-41ba-976c-d3f0789d1a36",
   "metadata": {},
   "outputs": [
    {
     "data": {
      "image/png": "[encoded data removed]",
      "text/plain": [
       "<Figure size 1039.79x284.278 with 1 Axes>"
      ]
     },
     "execution_count": 135,
     "metadata": {},
     "output_type": "execute_result"
    }
   ],
   "source": [
    "qr = QuantumRegister(2,'q')\n",
    "cr = ClassicalRegister(6,'c')\n",
    "circ = QuantumCircuit(qr,cr)\n",
    "\n",
    "#O1\n",
    "circ.measure([0,1],[5,4])\n",
    "circ.barrier()\n",
    "\n",
    "#O2\n",
    "circ.ry(-np.pi/2,0)\n",
    "circ.ry(-np.pi/2,1)\n",
    "circ.measure([0,1],[3,2])\n",
    "circ.ry(np.pi/2,0)\n",
    "circ.ry(np.pi/2,1)\n",
    "circ.barrier()\n",
    "\n",
    "#O3\n",
    "circ.rx(np.pi/2,0)\n",
    "circ.rx(np.pi/2,1)\n",
    "circ.measure([0,1],[0,1])\n",
    "\n",
    "circs.append(circ)\n",
    "\n",
    "circ.draw('mpl')"
   ]
  },
  {
   "cell_type": "code",
   "execution_count": 147,
   "id": "fcf8ff02-0014-4e1b-9da1-72934bd692ae",
   "metadata": {},
   "outputs": [],
   "source": [
    "nshots = 8192\n",
    "\n",
    "from qiskit_aer import AerSimulator\n",
    "\n",
    "simulator = AerSimulator()\n",
    "compiled_circuit = transpile(circs, simulator)\n",
    "sim_result = simulator.run(compiled_circuit,shots=nshots).result()\n",
    "counts = sim_result.get_counts()"
   ]
  },
  {
   "cell_type": "code",
   "execution_count": 148,
   "id": "95edb35e-0031-42b9-81f8-5e63e8eed980",
   "metadata": {},
   "outputs": [],
   "source": [
    "measured_counts = counts[0]\n",
    "k = list(measured_counts.keys())\n",
    "\n",
    "ABC = 0\n",
    "\n",
    "for i in range(0,len(k)):\n",
    "    state = k[i]\n",
    "\n",
    "    A = (-1.0)**float(state[0])\n",
    "    B = (-1.0)**float(state[1])\n",
    "    C = ((-1.0)**float(state[2]))*((-1.0)**float(state[3]))\n",
    "    \n",
    "    ABC = ABC + A*B*C*measured_counts[state]\n",
    "\n",
    "ABC = ABC/nshots"
   ]
  },
  {
   "cell_type": "code",
   "execution_count": 149,
   "id": "e2a46ab2-61b5-4f73-b930-0a52afd87808",
   "metadata": {},
   "outputs": [],
   "source": [
    "measured_counts = counts[1]\n",
    "k = list(measured_counts.keys())\n",
    "\n",
    "abc = 0\n",
    "\n",
    "for i in range(0,len(k)):\n",
    "    state = k[i]\n",
    "\n",
    "    a = (-1.0)**float(state[0])\n",
    "    b = (-1.0)**float(state[1])\n",
    "    c = ((-1.0)**float(state[2]))*((-1.0)**float(state[3]))\n",
    "    abc = abc + a*b*c*measured_counts[state]\n",
    "\n",
    "abc = abc/nshots"
   ]
  },
  {
   "cell_type": "code",
   "execution_count": 150,
   "id": "d3d04b41-a10c-4f97-aa29-9aeff5c329a6",
   "metadata": {},
   "outputs": [],
   "source": [
    "measured_counts = counts[2]\n",
    "k = list(measured_counts.keys())\n",
    "\n",
    "αβγ = 0\n",
    "\n",
    "for i in range(0,len(k)):\n",
    "    state = k[i]\n",
    "\n",
    "    α = ((-1.0)**float(state[0]))*((-1.0)**float(state[1]))\n",
    "    β = ((-1.0)**float(state[2]))*((-1.0)**float(state[3]))\n",
    "    γ = ((-1.0)**float(state[4]))*((-1.0)**float(state[5]))\n",
    "    \n",
    "    αβγ = αβγ + α*β*γ*measured_counts[state]\n",
    "\n",
    "αβγ = αβγ/nshots"
   ]
  },
  {
   "cell_type": "code",
   "execution_count": 151,
   "id": "41b514e9-c619-49b4-b7a1-7d9935db3a3f",
   "metadata": {},
   "outputs": [],
   "source": [
    "measured_counts = counts[3]\n",
    "k = list(measured_counts.keys())\n",
    "\n",
    "Aaα = 0\n",
    "\n",
    "for i in range(0,len(k)):\n",
    "    state = k[i]\n",
    "\n",
    "    A = (-1.0)**float(state[0])\n",
    "    a = (-1.0)**float(state[1])\n",
    "    α = ((-1.0)**float(state[2]))*((-1.0)**float(state[3]))\n",
    "    \n",
    "    Aaα = Aaα + A*a*α*measured_counts[state]\n",
    "\n",
    "Aaα = Aaα/nshots"
   ]
  },
  {
   "cell_type": "code",
   "execution_count": 152,
   "id": "50fbc3b7-4899-4eb9-9b0e-50adacba2e08",
   "metadata": {},
   "outputs": [],
   "source": [
    "measured_counts = counts[4]\n",
    "k = list(measured_counts.keys())\n",
    "\n",
    "Bbβ = 0\n",
    "\n",
    "for i in range(0,len(k)):\n",
    "    state = k[i]\n",
    "\n",
    "    B = (-1.0)**float(state[0])\n",
    "    b = (-1.0)**float(state[1])\n",
    "    β = ((-1.0)**float(state[2]))*((-1.0)**float(state[3]))\n",
    "    \n",
    "    Bbβ = Bbβ + B*b*β*measured_counts[state]\n",
    "\n",
    "Bbβ = Bbβ/nshots"
   ]
  },
  {
   "cell_type": "code",
   "execution_count": 153,
   "id": "d2a85791-b4fc-4e89-ac29-4ef92cd5a8bd",
   "metadata": {},
   "outputs": [],
   "source": [
    "measured_counts = counts[5]\n",
    "k = list(measured_counts.keys())\n",
    "\n",
    "Ccγ = 0\n",
    "\n",
    "for i in range(0,len(k)):\n",
    "    state = k[i]\n",
    "\n",
    "    C = ((-1.0)**float(state[0]))*((-1.0)**float(state[1]))\n",
    "    c = ((-1.0)**float(state[2]))*((-1.0)**float(state[3]))\n",
    "    γ = ((-1.0)**float(state[4]))*((-1.0)**float(state[5]))\n",
    "    \n",
    "    Ccγ = Ccγ + C*c*γ*measured_counts[state]\n",
    "\n",
    "Ccγ = Ccγ/nshots"
   ]
  },
  {
   "cell_type": "code",
   "execution_count": 154,
   "id": "117edbb1-ccce-4a34-aa5c-c3b5c66d1e1e",
   "metadata": {},
   "outputs": [
    {
     "name": "stdout",
     "output_type": "stream",
     "text": [
      "1.0\n",
      "1.0\n",
      "-0.01318359375\n",
      "1.0\n",
      "1.0\n",
      "0.001953125\n"
     ]
    }
   ],
   "source": [
    "print(ABC)\n",
    "print(abc)\n",
    "print(αβγ)\n",
    "print(Aaα)\n",
    "print(Bbβ)\n",
    "print(Ccγ)"
   ]
  },
  {
   "cell_type": "markdown",
   "id": "4e45c6bf-1435-495d-9889-2a160d3e6172",
   "metadata": {},
   "source": [
    "As noted in the review article, this doesn't work, at least for the bottom row and last column. In those cases, the \"fundamental\" measurements all involve tensor products of single-spin operators. At the single-qubit levels, these operators don't commute (as the spin-identity combos <i>do</i> in the other contexts). So we can be a little sloppy with the other ones without issue, but we have to figure out a way to treat the objects $\\hat{\\alpha}$, $\\hat{\\beta}$, $\\hat{\\gamma}$, $\\hat{C}$, $\\hat{c}$ as <i>fundamental</i> and only measure these values (rather than the detailed information about the individual qubits.\n",
    "\n",
    "In other words, we can't measure a single operator by resorting to two single-qubit measurements to extract the sign. We're asking for <i>too much</i> information to maintain the coherence of the contexts. \n",
    "\n",
    "The basic idea is to apply some sort of unitary transformation to convert what we're representing as a two-qubit measurement (of which we only care about the overall sign) into an actual single qubit measurement. For example\n",
    "\n",
    "$$\\hat{C} = \\hat{\\sigma}^{z}\\otimes\\hat{\\sigma}^{z} = \\hat{U}_{C}^{\\dagger}\\left[\\hat{\\sigma}^{z}\\otimes\\hat{I}\\right]\\hat{U}_{C}$$\n",
    "\n",
    "This is already the <i>kind</i> of thing we've done at the single-qubit level to measure things like $\\hat{\\sigma}^{x}$. In that we case, we \"rotate\" the system in such a way to represent an actual measurement of $\\hat{\\sigma}^{x}$ by an effective measurement of $\\hat{\\sigma}^{z}$. But now we need a two-qubit version of this. This looks potentially daunting, as the general two-qubit unitary is <i>much</i> more complicated (well, it involves a lot more than three parameters). So let's look at what we actually need. For the case of $\\hat{C} = \\hat{\\sigma}^{z}\\otimes\\hat{\\sigma}^{z}$, we need to ascertain the value of $C = \\pm 1$ but without uncovering the detailed single-qubit states. Starting from $\\hat{C}$, we can get $+1$ if the state is $|00\\rangle$ (both positive) or $|11\\rangle$ (both negative). The cases $|10\\rangle$ and $|01\\rangle$ have one negative value and result in $C=1$. If we want to perform some transformation to represent this measurement effectively by a single measurement of the first qubit, the easiest appropriate mapping we need from this transformation is \n",
    "\n",
    "$$|00\\rangle \\rightarrow |00\\rangle$$\n",
    "$$|11\\rangle \\rightarrow |01\\rangle$$\n",
    "$$|10\\rangle \\rightarrow |10\\rangle$$\n",
    "$$|01\\rangle \\rightarrow |11\\rangle$$\n",
    "\n",
    "In this way, the overall sign of $C$ is encoded in that first qubit. We don't scoop out all of the system's information since the second qubit would remain in a superposition state if it were in such a state before meausurement. In the previous version, that superposition was not maintained when measuring other operators. I say \"simplest\" because we're mapping $|00\\rangle$ and $|10\\rangle$ to themselves, but we could do something more complicated. Why make it harder?\n",
    "\n",
    "Well, we're actually in luck because that mapping is accomplished by the basic CNOT gate with the first qubit being the target and the second being the control. That's it. In general, we could decompose <i>any</i> two-qubit (or bigger, even) unitary operation into a combination of CNOT and single-qubit unitaries. But here, it's particularly simple. That's nice.\n",
    "\n",
    "For other things like $\\hat{\\sigma}^{x}\\otimes\\hat{\\sigma}^{z}$ or $\\hat{\\sigma}^{y}\\otimes\\hat{\\sigma}^{y}$, we just have to use rotation gates to first transform them to $\\hat{\\sigma}^{z}\\otimes\\hat{\\sigma}^{z}$ (like before) and then use the CNOT trick. CNOT is its own inverse, so this whole ordeal should be pretty simple to implement. Let's try again. "
   ]
  },
  {
   "cell_type": "markdown",
   "id": "e913081c-71d9-4d75-b5a2-3906cda24c42",
   "metadata": {},
   "source": [
    "$\\hat{A}\\hat{B}\\hat{C}$"
   ]
  },
  {
   "cell_type": "code",
   "execution_count": 155,
   "id": "49425e82-c276-4c34-a7b1-58598f279d6a",
   "metadata": {},
   "outputs": [
    {
     "data": {
      "image/png": "[encoded data removed]",
      "text/plain": [
       "<Figure size 621.739x284.278 with 1 Axes>"
      ]
     },
     "execution_count": 155,
     "metadata": {},
     "output_type": "execute_result"
    }
   ],
   "source": [
    "circs = []\n",
    "\n",
    "qr = QuantumRegister(2,'q')\n",
    "cr = ClassicalRegister(3,'c')\n",
    "circ = QuantumCircuit(qr,cr)\n",
    "\n",
    "#O1\n",
    "circ.measure(0,2)\n",
    "circ.barrier()\n",
    "\n",
    "#O2\n",
    "circ.measure(1,1)\n",
    "circ.barrier()\n",
    "\n",
    "#O3\n",
    "circ.cx(1,0)\n",
    "circ.measure(0,0)\n",
    "\n",
    "circs.append(circ)\n",
    "\n",
    "circ.draw('mpl')"
   ]
  },
  {
   "cell_type": "markdown",
   "id": "ab0e01b8-1e59-4933-8575-7af89ba2c91b",
   "metadata": {},
   "source": [
    "$\\hat{a}\\hat{b}\\hat{c}$"
   ]
  },
  {
   "cell_type": "code",
   "execution_count": 156,
   "id": "97ad8cc7-715f-4941-8060-02896fd349ac",
   "metadata": {},
   "outputs": [
    {
     "data": {
      "image/png": "[encoded data removed]",
      "text/plain": [
       "<Figure size 1039.79x284.278 with 1 Axes>"
      ]
     },
     "execution_count": 156,
     "metadata": {},
     "output_type": "execute_result"
    }
   ],
   "source": [
    "qr = QuantumRegister(2,'q')\n",
    "cr = ClassicalRegister(3,'c')\n",
    "circ = QuantumCircuit(qr,cr)\n",
    "\n",
    "#O1\n",
    "circ.ry(-np.pi/2,1)\n",
    "circ.measure(1,2)\n",
    "circ.ry(np.pi/2,1)\n",
    "circ.barrier()\n",
    "\n",
    "#O2\n",
    "circ.ry(-np.pi/2,0)\n",
    "circ.measure(0,1)\n",
    "circ.ry(np.pi/2,0)\n",
    "circ.barrier()\n",
    "\n",
    "#O3\n",
    "circ.ry(-np.pi/2,0)\n",
    "circ.ry(-np.pi/2,1)\n",
    "circ.cx(1,0)\n",
    "circ.measure(0,0)\n",
    "\n",
    "circs.append(circ)\n",
    "\n",
    "circ.draw('mpl')"
   ]
  },
  {
   "cell_type": "markdown",
   "id": "df4eaf8c-7d44-47ca-a28d-f5f53ae34be4",
   "metadata": {},
   "source": [
    "$\\hat{\\alpha}\\hat{\\beta}\\hat{\\gamma}$"
   ]
  },
  {
   "cell_type": "code",
   "execution_count": 157,
   "id": "1ccac1a6-47c5-42a2-983d-e9fbeeb5adb0",
   "metadata": {},
   "outputs": [
    {
     "data": {
      "image/png": "[encoded data removed]",
      "text/plain": [
       "<Figure size 1374.24x284.278 with 1 Axes>"
      ]
     },
     "execution_count": 157,
     "metadata": {},
     "output_type": "execute_result"
    }
   ],
   "source": [
    "qr = QuantumRegister(2,'q')\n",
    "cr = ClassicalRegister(3,'c')\n",
    "circ = QuantumCircuit(qr,cr)\n",
    "\n",
    "#O1\n",
    "circ.ry(-np.pi/2,1)\n",
    "circ.cx(1,0)\n",
    "circ.measure(0,2)\n",
    "circ.cx(1,0)\n",
    "circ.ry(np.pi/2,1)\n",
    "circ.barrier()\n",
    "\n",
    "#O2\n",
    "circ.ry(-np.pi/2,0)\n",
    "circ.cx(1,0)\n",
    "circ.measure(0,1)\n",
    "circ.cx(1,0)\n",
    "circ.ry(np.pi/2,0)\n",
    "circ.barrier()\n",
    "\n",
    "#O3\n",
    "circ.rx(np.pi/2,0)\n",
    "circ.rx(np.pi/2,1)\n",
    "circ.cx(1,0)\n",
    "circ.measure(0,0)\n",
    "\n",
    "circs.append(circ)\n",
    "\n",
    "circ.draw('mpl')"
   ]
  },
  {
   "cell_type": "markdown",
   "id": "038fc421-d5ff-49cb-950c-9a6ea6c86405",
   "metadata": {},
   "source": [
    "$\\hat{A}\\hat{a}\\hat{\\alpha}$"
   ]
  },
  {
   "cell_type": "code",
   "execution_count": 160,
   "id": "135763ea-5fc3-44c7-a5b3-bfbb28a6b4ba",
   "metadata": {},
   "outputs": [
    {
     "data": {
      "image/png": "[encoded data removed]",
      "text/plain": [
       "<Figure size 872.572x284.278 with 1 Axes>"
      ]
     },
     "execution_count": 160,
     "metadata": {},
     "output_type": "execute_result"
    }
   ],
   "source": [
    "qr = QuantumRegister(2,'q')\n",
    "cr = ClassicalRegister(3,'c')\n",
    "circ = QuantumCircuit(qr,cr)\n",
    "\n",
    "#O1\n",
    "circ.measure(0,2)\n",
    "circ.barrier()\n",
    "\n",
    "#O2\n",
    "circ.ry(-np.pi/2,1)\n",
    "circ.measure(1,1)\n",
    "circ.ry(np.pi/2,1)\n",
    "circ.barrier()\n",
    "\n",
    "#O3\n",
    "circ.ry(-np.pi/2,1)\n",
    "circ.cx(1,0)\n",
    "circ.measure(0,0)\n",
    "\n",
    "circs.append(circ)\n",
    "\n",
    "circ.draw('mpl')"
   ]
  },
  {
   "cell_type": "markdown",
   "id": "c766134e-ce3a-4fe5-b8e6-9b6e7f5bcea8",
   "metadata": {},
   "source": [
    "$\\hat{B}\\hat{b}\\hat{\\beta}$"
   ]
  },
  {
   "cell_type": "code",
   "execution_count": 161,
   "id": "6398882b-c3e2-41f6-bca8-48512ee36f65",
   "metadata": {},
   "outputs": [
    {
     "data": {
      "image/png": "[encoded data removed]",
      "text/plain": [
       "<Figure size 872.572x284.278 with 1 Axes>"
      ]
     },
     "execution_count": 161,
     "metadata": {},
     "output_type": "execute_result"
    }
   ],
   "source": [
    "qr = QuantumRegister(2,'q')\n",
    "cr = ClassicalRegister(3,'c')\n",
    "circ = QuantumCircuit(qr,cr)\n",
    "\n",
    "#O1\n",
    "circ.measure(1,2)\n",
    "circ.barrier()\n",
    "\n",
    "#O2\n",
    "circ.ry(-np.pi/2,0)\n",
    "circ.measure(0,2)\n",
    "circ.ry(np.pi/2,0)\n",
    "circ.barrier()\n",
    "\n",
    "#O3\n",
    "circ.ry(-np.pi/2,0)\n",
    "circ.cx(1,0)\n",
    "circ.measure(0,0)\n",
    "\n",
    "circs.append(circ)\n",
    "\n",
    "circ.draw('mpl')"
   ]
  },
  {
   "cell_type": "markdown",
   "id": "d1729ffb-5069-4678-aa76-9d4ba35c9256",
   "metadata": {},
   "source": [
    "$\\hat{C}\\hat{c}\\hat{\\gamma}$"
   ]
  },
  {
   "cell_type": "code",
   "execution_count": 162,
   "id": "76c08173-f931-4ba7-b2d0-2816c8cf26b4",
   "metadata": {},
   "outputs": [
    {
     "data": {
      "image/png": "[encoded data removed]",
      "text/plain": [
       "<Figure size 1207.02x284.278 with 1 Axes>"
      ]
     },
     "execution_count": 162,
     "metadata": {},
     "output_type": "execute_result"
    }
   ],
   "source": [
    "qr = QuantumRegister(2,'q')\n",
    "cr = ClassicalRegister(3,'c')\n",
    "circ = QuantumCircuit(qr,cr)\n",
    "\n",
    "#O1\n",
    "circ.cx(1,0)\n",
    "circ.measure(0,2)\n",
    "circ.cx(1,0)\n",
    "circ.barrier()\n",
    "\n",
    "#O2\n",
    "circ.ry(-np.pi/2,0)\n",
    "circ.ry(-np.pi/2,1)\n",
    "circ.cx(1,0)\n",
    "circ.measure(0,1)\n",
    "circ.cx(1,0)\n",
    "circ.ry(np.pi/2,0)\n",
    "circ.ry(np.pi/2,1)\n",
    "circ.barrier()\n",
    "\n",
    "#O3\n",
    "circ.rx(np.pi/2,0)\n",
    "circ.rx(np.pi/2,1)\n",
    "circ.cx(1,0)\n",
    "circ.measure(0,0)\n",
    "\n",
    "circs.append(circ)\n",
    "\n",
    "circ.draw('mpl')"
   ]
  },
  {
   "cell_type": "code",
   "execution_count": 164,
   "id": "a14bfd49-f9e5-402f-9b40-14d357b2ae37",
   "metadata": {},
   "outputs": [],
   "source": [
    "nshots = 8192\n",
    "\n",
    "from qiskit_aer import AerSimulator\n",
    "\n",
    "simulator = AerSimulator()\n",
    "compiled_circuit = transpile(circs, simulator)\n",
    "sim_result = simulator.run(compiled_circuit,shots=nshots).result()\n",
    "counts = sim_result.get_counts()"
   ]
  },
  {
   "cell_type": "code",
   "execution_count": 165,
   "id": "cc1743ca-d508-46af-afe3-92076ff14832",
   "metadata": {},
   "outputs": [],
   "source": [
    "measured_counts = counts[0]\n",
    "k = list(measured_counts.keys())\n",
    "\n",
    "ABC = 0\n",
    "\n",
    "for i in range(0,len(k)):\n",
    "    state = k[i]\n",
    "\n",
    "    A = (-1.0)**float(state[0])\n",
    "    B = (-1.0)**float(state[1])\n",
    "    C = (-1.0)**float(state[2])\n",
    "    \n",
    "    ABC = ABC + A*B*C*measured_counts[state]\n",
    "\n",
    "ABC = ABC/nshots"
   ]
  },
  {
   "cell_type": "code",
   "execution_count": 174,
   "id": "b4740b63-0761-4960-b8f1-1fc0e8e16167",
   "metadata": {},
   "outputs": [],
   "source": [
    "measured_counts = counts[1]\n",
    "k = list(measured_counts.keys())\n",
    "\n",
    "abc = 0\n",
    "\n",
    "for i in range(0,len(k)):\n",
    "    state = k[i]\n",
    "\n",
    "    a = (-1.0)**float(state[0])\n",
    "    b = (-1.0)**float(state[1])\n",
    "    c = (-1.0)**float(state[2])\n",
    "    \n",
    "    abc = abc + a*b*c*measured_counts[state]\n",
    "\n",
    "abc = abc/nshots"
   ]
  },
  {
   "cell_type": "code",
   "execution_count": 172,
   "id": "fa1a4a52-9d82-47bf-8283-a68dda72cd9a",
   "metadata": {},
   "outputs": [],
   "source": [
    "measured_counts = counts[2]\n",
    "k = list(measured_counts.keys())\n",
    "\n",
    "αβγ = 0\n",
    "\n",
    "for i in range(0,len(k)):\n",
    "    state = k[i]\n",
    "\n",
    "    α = (-1.0)**float(state[0])\n",
    "    β = (-1.0)**float(state[1])\n",
    "    γ = (-1.0)**float(state[2])\n",
    "    \n",
    "    αβγ = αβγ + α*β*γ*measured_counts[state]\n",
    "\n",
    "αβγ = αβγ/nshots"
   ]
  },
  {
   "cell_type": "code",
   "execution_count": 176,
   "id": "a3b3254d-7ba9-4a70-95b7-9f6284f1d38b",
   "metadata": {},
   "outputs": [],
   "source": [
    "measured_counts = counts[3]\n",
    "k = list(measured_counts.keys())\n",
    "\n",
    "Aaα = 0\n",
    "\n",
    "for i in range(0,len(k)):\n",
    "    state = k[i]\n",
    "\n",
    "    A = (-1.0)**float(state[0])\n",
    "    a = (-1.0)**float(state[1])\n",
    "    α = (-1.0)**float(state[2])\n",
    "    \n",
    "    Aaα = Aaα + A*a*α*measured_counts[state]\n",
    "\n",
    "Aaα = Aaα/nshots"
   ]
  },
  {
   "cell_type": "code",
   "execution_count": 177,
   "id": "b7c66e47-5a8c-4d05-a2d4-489a2fccb7f1",
   "metadata": {},
   "outputs": [],
   "source": [
    "measured_counts = counts[4]\n",
    "k = list(measured_counts.keys())\n",
    "\n",
    "Bbβ = 0\n",
    "\n",
    "for i in range(0,len(k)):\n",
    "    state = k[i]\n",
    "\n",
    "    B = (-1.0)**float(state[0])\n",
    "    b = (-1.0)**float(state[1])\n",
    "    β = (-1.0)**float(state[2])\n",
    "    \n",
    "    Bbβ = Bbβ + B*b*β*measured_counts[state]\n",
    "\n",
    "Bbβ = Bbβ/nshots"
   ]
  },
  {
   "cell_type": "code",
   "execution_count": 178,
   "id": "69e1fd75-0ec8-470c-8fe9-462f625a0bef",
   "metadata": {},
   "outputs": [],
   "source": [
    "measured_counts = counts[5]\n",
    "k = list(measured_counts.keys())\n",
    "\n",
    "Ccγ = 0\n",
    "\n",
    "for i in range(0,len(k)):\n",
    "    state = k[i]\n",
    "\n",
    "    C = (-1.0)**float(state[0])\n",
    "    c = (-1.0)**float(state[1])\n",
    "    γ = (-1.0)**float(state[2])\n",
    "    \n",
    "    Ccγ = Ccγ + C*c*γ*measured_counts[state]\n",
    "\n",
    "Ccγ = Ccγ/nshots"
   ]
  },
  {
   "cell_type": "code",
   "execution_count": 180,
   "id": "c24f1964-4645-4b48-bdcd-65ca980ec4ec",
   "metadata": {},
   "outputs": [
    {
     "name": "stdout",
     "output_type": "stream",
     "text": [
      "1.0\n",
      "1.0\n",
      "1.0\n",
      "1.0\n",
      "1.0\n",
      "-1.0\n",
      "6.0\n"
     ]
    }
   ],
   "source": [
    "print(ABC)\n",
    "print(abc)\n",
    "print(αβγ)\n",
    "print(Aaα)\n",
    "print(Bbβ)\n",
    "print(Ccγ)\n",
    "print(ABC+abc+αβγ+Aaα+Bbβ-Ccγ)"
   ]
  },
  {
   "cell_type": "markdown",
   "id": "844ff456-bb5c-4dca-b3b3-f330f8fe907e",
   "metadata": {},
   "source": [
    "## Version Information "
   ]
  },
  {
   "cell_type": "code",
   "execution_count": 181,
   "id": "2c82ae59-64d7-48cf-a073-fd2fd15883d6",
   "metadata": {},
   "outputs": [
    {
     "data": {
      "text/plain": [
       "'1.1.1'"
      ]
     },
     "execution_count": 181,
     "metadata": {},
     "output_type": "execute_result"
    }
   ],
   "source": [
    "import qiskit \n",
    "\n",
    "qiskit.version.get_version_info()"
   ]
  },
  {
   "cell_type": "code",
   "execution_count": 182,
   "id": "4a3d4d8a-c47d-455b-9ec2-2e6cda3a32db",
   "metadata": {},
   "outputs": [
    {
     "data": {
      "text/plain": [
       "'0.25.0'"
      ]
     },
     "execution_count": 182,
     "metadata": {},
     "output_type": "execute_result"
    }
   ],
   "source": [
    "import qiskit_ibm_runtime\n",
    "\n",
    "qiskit_ibm_runtime.version.get_version_info()"
   ]
  },
  {
   "cell_type": "code",
   "execution_count": null,
   "id": "3606fc3f-da80-41bf-a561-84b1761f602f",
   "metadata": {},
   "outputs": [],
   "source": []
  }
 ],
 "metadata": {
  "kernelspec": {
   "display_name": "Python 3 (ipykernel)",
   "language": "python",
   "name": "python3"
  },
  "language_info": {
   "codemirror_mode": {
    "name": "ipython",
    "version": 3
   },
   "file_extension": ".py",
   "mimetype": "text/x-python",
   "name": "python",
   "nbconvert_exporter": "python",
   "pygments_lexer": "ipython3",
   "version": "3.8.5"
  }
 },
 "nbformat": 4,
 "nbformat_minor": 5
}
